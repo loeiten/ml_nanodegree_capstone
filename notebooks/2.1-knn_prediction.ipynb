{
 "cells": [
  {
   "cell_type": "markdown",
   "metadata": {
    "collapsed": true
   },
   "source": [
    "# KNN prediction\n",
    "\n",
    "> NOTE: This notebook is identical to `1.1-last_day_prediction.ipynb` with exception of the model used.\n",
    "\n",
    "In this notebook we will test the knn prediction to see how well the estimate is if we use the closing value x days ago as a prediction of stock prices.\n",
    "We will use this as a benchmark for more complex models."
   ]
  },
  {
   "cell_type": "code",
   "execution_count": null,
   "metadata": {},
   "outputs": [],
   "source": [
    "import matplotlib\n",
    "\n",
    "from sklearn import neighbors\n",
    "from sklearn.model_selection import train_test_split\n",
    "from IPython.display import display\n",
    "\n",
    "from data.get_50_highest_weights import get_sp_50_highest_weights_symbols\n",
    "from data_preparation.ochlva_data import OCHLVAData\n",
    "from utils.column_modifiers import target_generator\n",
    "from utils.column_modifiers import keep_columns\n",
    "from utils.visualizations import plot_true_and_prediction\n",
    "from utils.scorers import normalized_root_mean_square_error\n",
    "from estimators.predictions import calculate_rolling_prediction"
   ]
  },
  {
   "cell_type": "code",
   "execution_count": null,
   "metadata": {},
   "outputs": [],
   "source": [
    "matplotlib.use('nbAgg')"
   ]
  },
  {
   "cell_type": "code",
   "execution_count": null,
   "metadata": {},
   "outputs": [],
   "source": [
    "import matplotlib.pyplot as plt"
   ]
  },
  {
   "cell_type": "markdown",
   "metadata": {},
   "source": [
    "Load the S&P 500 (as `^GSPC`) data"
   ]
  },
  {
   "cell_type": "code",
   "execution_count": null,
   "metadata": {},
   "outputs": [],
   "source": [
    "ochlva_data = OCHLVAData()"
   ]
  },
  {
   "cell_type": "markdown",
   "metadata": {},
   "source": [
    "Load three other stocks: The stock weighted the most, the medium weighted stock and the lowest weighted stock (out of the 50 downloaded). \n",
    "We do this in order to get a better feeling of the model."
   ]
  },
  {
   "cell_type": "code",
   "execution_count": null,
   "metadata": {},
   "outputs": [],
   "source": [
    "symbols = get_sp_50_highest_weights_symbols()\n",
    "\n",
    "# Select symbols with high, medium and low weights\n",
    "selected_symbols = (symbols.iloc[0], \n",
    "                    symbols.iloc[len(symbols)//2], \n",
    "                    symbols.iloc[-1])\n",
    "\n",
    "for s in selected_symbols:\n",
    "    ochlva_data.load_data(s)"
   ]
  },
  {
   "cell_type": "code",
   "execution_count": null,
   "metadata": {
    "scrolled": true
   },
   "outputs": [],
   "source": [
    "ax = ochlva_data.plot(['Adj. Close'])\n",
    "plt.show()"
   ]
  },
  {
   "cell_type": "markdown",
   "metadata": {},
   "source": [
    "For now, we will only be interested in training using the adjusted close values."
   ]
  },
  {
   "cell_type": "code",
   "execution_count": null,
   "metadata": {},
   "outputs": [],
   "source": [
    "# Keep only 'Adj. Close' column\n",
    "ochlva_data.transform(keep_columns, ['Adj. Close'], copy=False)"
   ]
  },
  {
   "cell_type": "markdown",
   "metadata": {},
   "source": [
    "Next, we create the target values for the data.\n",
    "The target columns will be shifted 7, 14 and 28 days with respect to 'Adj. Close'."
   ]
  },
  {
   "cell_type": "code",
   "execution_count": null,
   "metadata": {},
   "outputs": [],
   "source": [
    "days = [7, 14, 28]\n",
    "ochlva_data.transform(target_generator, 'Adj. Close', days, copy=False)"
   ]
  },
  {
   "cell_type": "markdown",
   "metadata": {},
   "source": [
    "We initialize the regressor.\n",
    "Note that only one instance is needed."
   ]
  },
  {
   "cell_type": "code",
   "execution_count": null,
   "metadata": {},
   "outputs": [],
   "source": [
    "reg = neighbors.KNeighborsRegressor()"
   ]
  },
  {
   "cell_type": "markdown",
   "metadata": {},
   "source": [
    "We will now loop over the symbols in our `ochlva_data`.\n",
    "Specifically we will:\n",
    "\n",
    "1. Split the data into a training set and test set, and visualize the two sets \n",
    "2. Make a \"rolling\" prediction. That is, we will\n",
    "\t1. Make a prediction based on the training set.\n",
    "\t2. Add the earliest observation from the test set to the training set, retrain the model and make a new prediction\n",
    "\t3. Add the two earliest observation from the test set to the training set, retrain the model and make a new prediction, and so on util predictions have been performed for the entire test set.\n",
    "3. Vizualise the result\n",
    "4. Report the averaged normalized root mean squared error (see `scorers.py` for details)"
   ]
  },
  {
   "cell_type": "code",
   "execution_count": null,
   "metadata": {
    "scrolled": false
   },
   "outputs": [],
   "source": [
    "for key in ochlva_data.transformed_data.keys():\n",
    "    print(f'Processing {key}')\n",
    "    # Extract the features and targets\n",
    "    # NOTE: We have multiple targets\n",
    "    x = ochlva_data.transformed_data[key].\\\n",
    "        loc[:, ochlva_data.transformed_data[key].columns[:-len(days)]] \n",
    "    y = ochlva_data.transformed_data[key].\\\n",
    "        loc[:, ochlva_data.transformed_data[key].columns[-len(days):]]\n",
    "\n",
    "    print('Head of features')\n",
    "    display(x.head())\n",
    "    print('Head of targets')\n",
    "    display(y.head())\n",
    "    \n",
    "    # NOTE: We could use sklearn.model_selection.TimeSeriesSplit for splitting \n",
    "    # the data\n",
    "    # However, as we are not doing any form of cross-validation, it is here \n",
    "    # more convenient to utilize train_test_split\n",
    "    x_train, x_test, y_train, y_test = \\\n",
    "        train_test_split(x, y, shuffle=False, test_size=.2)\n",
    "    \n",
    "    print(f'Train shape: {x_train.shape}')\n",
    "    print(f'Test shape: {x_test.shape}')\n",
    "    \n",
    "    # Plot the train and test set\n",
    "    ax = x_train.plot()\n",
    "    _ = x_test.plot(ax=ax)\n",
    "    ax.legend([f'{key} Train', f'{key} Test'])\n",
    "    ax.grid()\n",
    "    _ = ax.set_ylabel('USD')\n",
    "\n",
    "    plt.show()\n",
    "    \n",
    "    # Obtain the day of prediction\n",
    "    # I.e. for a column named x + 2 days, we would expect the two last rows\n",
    "    # to contain nan\n",
    "    prediction_days = y_test.isnull().sum()\n",
    "    \n",
    "    # Make predictions\n",
    "    y_pred = \\\n",
    "        calculate_rolling_prediction(reg, x_train, x_test, y_train, y_test,\n",
    "                                     prediction_days)\n",
    "\n",
    "    # Plot the results\n",
    "    _ = plot_true_and_prediction(x_test, y_pred, y_label='USD')\n",
    "    plt.show()\n",
    "    \n",
    "    # Calculate the normalized root mean squared error\n",
    "    nrmse = normalized_root_mean_square_error(y_test, y_pred)\n",
    "    \n",
    "    print((f'Normalized root mean squared error (averaged for the three '\n",
    "           f'predictions): {nrmse}'))\n",
    "    \n",
    "    print('-'*80)\n",
    "    print('\\n'*5)"
   ]
  }
 ],
 "metadata": {
  "kernelspec": {
   "display_name": "Python 3",
   "language": "python",
   "name": "python3"
  },
  "language_info": {
   "codemirror_mode": {
    "name": "ipython",
    "version": 3
   },
   "file_extension": ".py",
   "mimetype": "text/x-python",
   "name": "python",
   "nbconvert_exporter": "python",
   "pygments_lexer": "ipython3",
   "version": "3.6.4"
  }
 },
 "nbformat": 4,
 "nbformat_minor": 1
}
