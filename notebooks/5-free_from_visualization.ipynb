{
 "cells": [
  {
   "cell_type": "markdown",
   "metadata": {
    "collapsed": true
   },
   "source": [
    "# Free form visualization\n",
    "\n",
    "In this notebook we will visualize how well the optimal model actually performed."
   ]
  },
  {
   "cell_type": "code",
   "execution_count": null,
   "metadata": {},
   "outputs": [],
   "source": [
    "import matplotlib\n",
    "\n",
    "from sklearn import neighbors\n",
    "from sklearn.model_selection import train_test_split\n",
    "from IPython.display import display\n",
    "\n",
    "from data.get_50_highest_weights import get_sp_50_highest_weights_symbols\n",
    "from data_preparation.ochlva_data import OCHLVAData\n",
    "from utils.column_modifiers import target_generator\n",
    "from utils.column_modifiers import feature_generator\n",
    "from utils.column_modifiers import keep_columns\n",
    "from utils.column_modifiers import reshift_targets\n",
    "from estimators.predictions import calculate_rolling_prediction"
   ]
  },
  {
   "cell_type": "code",
   "execution_count": null,
   "metadata": {},
   "outputs": [],
   "source": [
    "matplotlib.use('nbAgg')"
   ]
  },
  {
   "cell_type": "code",
   "execution_count": null,
   "metadata": {},
   "outputs": [],
   "source": [
    "import matplotlib.pyplot as plt"
   ]
  },
  {
   "cell_type": "markdown",
   "metadata": {},
   "source": [
    "Load the S&P 500 (as `^GSPC`) data"
   ]
  },
  {
   "cell_type": "code",
   "execution_count": null,
   "metadata": {},
   "outputs": [],
   "source": [
    "ochlva_data = OCHLVAData()"
   ]
  },
  {
   "cell_type": "markdown",
   "metadata": {},
   "source": [
    "Load three other stocks: The stock weighted the most, the medium weighted stock and the lowest weighted stock (out of the 50 downloaded). \n",
    "We do this in order to get a better feeling of the model."
   ]
  },
  {
   "cell_type": "code",
   "execution_count": null,
   "metadata": {},
   "outputs": [],
   "source": [
    "symbols = get_sp_50_highest_weights_symbols()\n",
    "\n",
    "# Select symbols with high, medium and low weights\n",
    "selected_symbols = (symbols.iloc[0], \n",
    "                    symbols.iloc[len(symbols)//2], \n",
    "                    symbols.iloc[-1])\n",
    "\n",
    "for s in selected_symbols:\n",
    "    ochlva_data.load_data(s)"
   ]
  },
  {
   "cell_type": "markdown",
   "metadata": {},
   "source": [
    "For now, we will only be interested in training using the adjusted close values."
   ]
  },
  {
   "cell_type": "code",
   "execution_count": null,
   "metadata": {},
   "outputs": [],
   "source": [
    "# Keep only 'Adj. Close' column\n",
    "ochlva_data.transform(keep_columns, ['Adj. Close'], copy=False)"
   ]
  },
  {
   "cell_type": "markdown",
   "metadata": {},
   "source": [
    "Next, we create the target values for the data.\n",
    "The target columns will be shifted 7 days with respect to 'Adj. Close'."
   ]
  },
  {
   "cell_type": "code",
   "execution_count": null,
   "metadata": {},
   "outputs": [],
   "source": [
    "days = [7]\n",
    "ochlva_data.transform(target_generator, 'Adj. Close', days, copy=False)"
   ]
  },
  {
   "cell_type": "markdown",
   "metadata": {},
   "source": [
    "## Make the predictions"
   ]
  },
  {
   "cell_type": "code",
   "execution_count": null,
   "metadata": {
    "scrolled": false
   },
   "outputs": [],
   "source": [
    "optimal_n = 1\n",
    "feature_days = 160\n",
    "\n",
    "ax = None\n",
    "legends = list()\n",
    "\n",
    "for key in ochlva_data.transformed_data.keys():\n",
    "    \n",
    "    x = ochlva_data.transformed_data[key].\\\n",
    "        loc[:, ochlva_data.transformed_data[key].columns[:-len(days)]] \n",
    "    y = ochlva_data.transformed_data[key].\\\n",
    "        loc[:, ochlva_data.transformed_data[key].columns[-len(days):]]\n",
    "        \n",
    "    x_w_features = feature_generator(x, 'Adj. Close', feature_days, copy=True)   \n",
    "    \n",
    "    x_train, x_test, y_train, y_test = \\\n",
    "        train_test_split(x_w_features, y, shuffle=False, test_size=.2)\n",
    "    \n",
    "    # Obtain the day of prediction\n",
    "    # I.e. for a column named x + 2 days, we would expect the two last rows\n",
    "    # to contain nan\n",
    "    prediction_days = y_test.isnull().sum()\n",
    "    \n",
    "    # Make the regressor with the optimal n\n",
    "    reg = neighbors.KNeighborsRegressor(n_neighbors=optimal_n)\n",
    "\n",
    "    # NOTE: We refit the model here with the same architecture as we used in the\n",
    "    #       predictions above\n",
    "    #       However, the data will be different for each time as we do a rolling\n",
    "    #       prediction\n",
    "    y_pred = calculate_rolling_prediction(reg,\n",
    "                                          x_train,\n",
    "                                          x_test,\n",
    "                                          y_train,\n",
    "                                          y_test, \n",
    "                                          prediction_days)\n",
    "    \n",
    "    # Reshift the days so that they matches\n",
    "    y_pred = reshift_targets(y_pred, x_test.index)\n",
    "    # Rename the column in order to perform a proper subtraction between data\n",
    "    # frames\n",
    "    y_pred.columns = ['Adj. Close']\n",
    "    \n",
    "    diff = x_test.loc[:, ['Adj. Close']] - y_pred\n",
    "\n",
    "    ax = diff.plot(ax = ax, alpha=0.7)\n",
    "    \n",
    "    legends.append(f'{key}: Mispredicted {diff.abs().sum().sum():.0f} $')\n",
    "\n",
    "ax.legend(legends)\n",
    "ax.grid()\n",
    "_ = ax.set_ylabel('USD')\n",
    "    \n",
    "plt.show()"
   ]
  }
 ],
 "metadata": {
  "kernelspec": {
   "display_name": "Python 3",
   "language": "python",
   "name": "python3"
  },
  "language_info": {
   "codemirror_mode": {
    "name": "ipython",
    "version": 3
   },
   "file_extension": ".py",
   "mimetype": "text/x-python",
   "name": "python",
   "nbconvert_exporter": "python",
   "pygments_lexer": "ipython3",
   "version": "3.6.4"
  }
 },
 "nbformat": 4,
 "nbformat_minor": 1
}
