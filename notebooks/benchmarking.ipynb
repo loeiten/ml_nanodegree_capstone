{
 "cells": [
  {
   "cell_type": "markdown",
   "metadata": {
    "collapsed": true
   },
   "source": [
    "# Benchmarking\n",
    "\n",
    "In this notebook we will test some naive methods, and use these as benchmark for the more advanced machine learning algorithms we will use to predict stock prices."
   ]
  },
  {
   "cell_type": "code",
   "execution_count": null,
   "metadata": {},
   "outputs": [],
   "source": [
    "import matplotlib\n",
    "\n",
    "import pandas as pd\n",
    "import numpy as np\n",
    "\n",
    "from sklearn.model_selection import train_test_split\n",
    "from IPython.display import display\n",
    "\n",
    "from data.get_50_highest_weights import get_sp_50_highest_weights_symbols\n",
    "from data_preparation.ochlva_data import OCHLVAData\n",
    "from utils.column_modifiers import target_generator\n",
    "from utils.column_modifiers import keep_columns\n",
    "from scorers.scorers import normalized_root_mean_square_error\n",
    "from estimators.predictions import calculate_rolling_prediction\n",
    "from estimators import latest_day"
   ]
  },
  {
   "cell_type": "code",
   "execution_count": null,
   "metadata": {},
   "outputs": [],
   "source": [
    "matplotlib.use('nbAgg')"
   ]
  },
  {
   "cell_type": "code",
   "execution_count": null,
   "metadata": {},
   "outputs": [],
   "source": [
    "import matplotlib.pyplot as plt"
   ]
  },
  {
   "cell_type": "code",
   "execution_count": null,
   "metadata": {},
   "outputs": [],
   "source": [
    "# Load the SP500 data\n",
    "ochlva_data = OCHLVAData()"
   ]
  },
  {
   "cell_type": "code",
   "execution_count": null,
   "metadata": {},
   "outputs": [],
   "source": [
    "# Load three other stocks\n",
    "symbols = get_sp_50_highest_weights_symbols()\n",
    "\n",
    "# Select symbols with high, medium and low weights\n",
    "selected_symbols = (symbols.iloc[0], symbols.iloc[len(symbols)//2], symbols.iloc[-1])\n",
    "\n",
    "for s in selected_symbols:\n",
    "    ochlva_data.load_data(s)"
   ]
  },
  {
   "cell_type": "code",
   "execution_count": null,
   "metadata": {
    "scrolled": true
   },
   "outputs": [],
   "source": [
    "ax = ochlva_data.plot(['Adj. Close'])\n",
    "plt.show()"
   ]
  },
  {
   "cell_type": "code",
   "execution_count": null,
   "metadata": {},
   "outputs": [],
   "source": [
    "# Keep only 'Adj. Close' column\n",
    "ochlva_data.transform(keep_columns, ['Adj. Close'], copy=False)"
   ]
  },
  {
   "cell_type": "code",
   "execution_count": null,
   "metadata": {},
   "outputs": [],
   "source": [
    "# Create target values for the data\n",
    "# The targets are columns shifted 7, 14 and 28 days with respect to 'Adj. Close'\n",
    "days = [7, 14, 28]\n",
    "ochlva_data.transform(target_generator, 'Adj. Close', days, copy=False)"
   ]
  },
  {
   "cell_type": "code",
   "execution_count": null,
   "metadata": {},
   "outputs": [],
   "source": [
    "# Make the latest day regressor (note that only one is needed)\n",
    "reg = latest_day.LatestDay()"
   ]
  },
  {
   "cell_type": "code",
   "execution_count": null,
   "metadata": {
    "scrolled": false
   },
   "outputs": [],
   "source": [
    "# Here we are looping through the symbols in ochlva\n",
    "\n",
    "for key in ochlva_data.transformed_data.keys():\n",
    "    print(f'Processing {key}')\n",
    "    # Extract the features and targets\n",
    "    # NOTE: We have multiple targets\n",
    "    x = ochlva_data.transformed_data[key].loc[:, ochlva_data.transformed_data[key].columns[:-len(days)]] \n",
    "    y = ochlva_data.transformed_data[key].loc[:, ochlva_data.transformed_data[key].columns[-len(days):]]\n",
    "\n",
    "    print('Head of features')\n",
    "    display(x.head())\n",
    "    print('Head of targets')\n",
    "    display(y.head())\n",
    "    \n",
    "    # NOTE: We could use sklearn.model_selection.TimeSeriesSplit for splitting the data\n",
    "    # However, as we are not doing any form of cross-validation, it is here more convenient to utilize train_test_split\n",
    "    x_train, x_test, y_train, y_test = train_test_split(x, y, shuffle=False, test_size=.2)\n",
    "    \n",
    "    print(f'Train shape: {x_train.shape}')\n",
    "    print(f'Test shape: {x_test.shape}')\n",
    "\n",
    "    # Plot the train and test set\n",
    "    ax = x_train.plot()\n",
    "    _ = x_test.plot(ax=ax)\n",
    "    ax.legend([f'{key} Train', f'{key} Test'])\n",
    "    ax.grid()\n",
    "    _ = ax.set_ylabel('USD')\n",
    "\n",
    "    plt.show()\n",
    "    \n",
    "    # Make predictions\n",
    "    y_pred = calculate_rolling_prediction(reg, x_train, x_test, y_train, y_test)\n",
    "    \n",
    "    # Plot the short and the long predictions seperately in order not to clutter the plot\n",
    "    ax = y_test.loc[:, [y_test.columns[0]]].plot()\n",
    "    _ = y_pred.loc[:, [y_pred.columns[0]]].plot(ax=ax)\n",
    "    ax.grid()\n",
    "    _ = ax.set_ylabel('USD')\n",
    "    plt.show()\n",
    "    \n",
    "    ax = y_test.loc[:, [y_test.columns[-1]]].plot()\n",
    "    _ = y_pred.loc[:, [y_pred.columns[-1]]].plot(ax=ax)\n",
    "    ax.grid()\n",
    "    _ = ax.set_ylabel('USD')\n",
    "    plt.show()\n",
    "    \n",
    "    # As the first prediction is on the training set, we subtract 1 in the indexing to account for this\n",
    "    # Calculate the normalized root mean squared error\n",
    "    nrmse = normalized_root_mean_square_error(y_test, y_pred)\n",
    "    \n",
    "    print(f'Normalized root mean squared error (averaged for the three predictions): {nrmse}')\n",
    "    \n",
    "    print('-'*80)\n",
    "    print('\\n'*5)"
   ]
  }
 ],
 "metadata": {
  "kernelspec": {
   "display_name": "Python 3",
   "language": "python",
   "name": "python3"
  },
  "language_info": {
   "codemirror_mode": {
    "name": "ipython",
    "version": 3
   },
   "file_extension": ".py",
   "mimetype": "text/x-python",
   "name": "python",
   "nbconvert_exporter": "python",
   "pygments_lexer": "ipython3",
   "version": "3.6.4"
  }
 },
 "nbformat": 4,
 "nbformat_minor": 1
}
