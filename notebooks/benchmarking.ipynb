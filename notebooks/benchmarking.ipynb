{
 "cells": [
  {
   "cell_type": "markdown",
   "metadata": {
    "collapsed": true
   },
   "source": [
    "# Benchmarking\n",
    "\n",
    "In this notebook we will test some naive methods, and use these as benchmark for the more advanced machine learning algorithms we will use to predict stock prices."
   ]
  },
  {
   "cell_type": "code",
   "execution_count": null,
   "metadata": {},
   "outputs": [],
   "source": [
    "import matplotlib\n",
    "\n",
    "import pandas as pd\n",
    "import numpy as np\n",
    "\n",
    "from sklearn.model_selection import train_test_split\n",
    "from sklearn.metrics import mean_squared_error\n",
    "\n",
    "from data.get_50_highest_weights import get_sp_50_highest_weights_symbols\n",
    "from data_preparation.ochlva_data import OCHLVAData\n",
    "from estimators import latest_day"
   ]
  },
  {
   "cell_type": "code",
   "execution_count": null,
   "metadata": {},
   "outputs": [],
   "source": [
    "matplotlib.use('nbAgg')"
   ]
  },
  {
   "cell_type": "code",
   "execution_count": null,
   "metadata": {},
   "outputs": [],
   "source": [
    "import matplotlib.pyplot as plt"
   ]
  },
  {
   "cell_type": "code",
   "execution_count": null,
   "metadata": {},
   "outputs": [],
   "source": [
    "# Load the SP500 data\n",
    "ochlv_data = OCHLVAData()"
   ]
  },
  {
   "cell_type": "code",
   "execution_count": null,
   "metadata": {},
   "outputs": [],
   "source": [
    "# Load three other stocks\n",
    "symbols = get_sp_50_highest_weights_symbols()\n",
    "\n",
    "# Select symbols with high, medium and low weights\n",
    "selected_symbols = (symbols.iloc[0], symbols.iloc[len(symbols)//2], symbols.iloc[-1])\n",
    "\n",
    "for s in selected_symbols:\n",
    "    ochlv_data.load_data(s)"
   ]
  },
  {
   "cell_type": "code",
   "execution_count": null,
   "metadata": {
    "scrolled": true
   },
   "outputs": [],
   "source": [
    "ax = ochlv_data.plot(['Adj. Close'])\n",
    "plt.show()"
   ]
  },
  {
   "cell_type": "markdown",
   "metadata": {},
   "source": [
    "The other stocks are order of magnitude lower than SP500, so treat seperately"
   ]
  },
  {
   "cell_type": "code",
   "execution_count": null,
   "metadata": {},
   "outputs": [],
   "source": [
    "sp500_adj_close = ochlv_data.clean_data['^GSPC'].loc[:, ['Adj. Close']]"
   ]
  },
  {
   "cell_type": "code",
   "execution_count": null,
   "metadata": {},
   "outputs": [],
   "source": [
    "train, test = train_test_split(sp500_adj_close, shuffle=False, test_size=.2)\n",
    "\n",
    "print(f'Train shape: {train.shape}')\n",
    "print(f'Test shape: {test.shape}')"
   ]
  },
  {
   "cell_type": "code",
   "execution_count": null,
   "metadata": {},
   "outputs": [],
   "source": [
    "ax = train.plot()\n",
    "_ = test.plot(ax=ax)\n",
    "ax.legend(['SP500 Train', 'SP500 Test'])\n",
    "\n",
    "ax.grid()\n",
    "_ = ax.set_ylabel('USD')\n",
    "\n",
    "plt.show()"
   ]
  },
  {
   "cell_type": "code",
   "execution_count": null,
   "metadata": {},
   "outputs": [],
   "source": [
    "def get_rolling_prediction(reg, train, test, days):\n",
    "    \"\"\"\n",
    "    Returns a rolling prediction.\n",
    "    \n",
    "    Parameters\n",
    "    ----------\n",
    "    reg : object\n",
    "        The model to fit and make prediction from\n",
    "    train : array, shape (n_test_samples, n_features)\n",
    "        The training set\n",
    "    test : array, shape (n_test_samples, n_features)\n",
    "        The test set\n",
    "    days : int\n",
    "        The number of days to do the prediction from\n",
    "    \n",
    "    Returns\n",
    "    -------\n",
    "    y_pred : list\n",
    "        A list of the consecutive predictions\n",
    "    \"\"\"\n",
    "    \n",
    "    # Initialize the predictions\n",
    "    y_pred = []\n",
    "    \n",
    "    # Loop over the test set\n",
    "    # For each step, we will add one training day to the training set, retrain the model and make a prediction d days ahead \n",
    "    # The first prediction is making a prediction on the test set, so we add 1 to days to account for this\n",
    "    for i in range(test.shape[0] - d+1):\n",
    "        rolling_train = pd.concat([train, test.iloc[:i]])\n",
    "        reg.fit(rolling_train.values)\n",
    "        y_pred.append(reg.predict(rolling_train.values)[-1])\n",
    "        \n",
    "    return y_pred"
   ]
  },
  {
   "cell_type": "code",
   "execution_count": null,
   "metadata": {},
   "outputs": [],
   "source": [
    "# Initialize a dict on the form {prediction_days: DataFrame}\n",
    "predictions = {7:{'df': None, 'rmse': None, 'nrmse':None},\n",
    "               14:{'df': None,'rmse': None, 'nrmse':None}, \n",
    "               28:{'df': None,'rmse': None, 'nrmse':None}}\n",
    "\n",
    "for d in predictions.keys():\n",
    "    # Initialize the regressor\n",
    "    reg = latest_day.LatestDay(days=d)\n",
    "\n",
    "    y_pred = get_rolling_prediction(reg, train, test, d)\n",
    "\n",
    "    # Cast into dataframe for easier handling\n",
    "    # As the first prediction is on the training set, we subtract 1 in the indexing to account for this\n",
    "    predictions[d]['df'] = pd.DataFrame(y_pred, index=test.index[d-1:], columns=['Adj. Close'])\n",
    "    predictions[d]['rmse'] = np.sqrt(mean_squared_error(test.iloc[d-1:], y_pred))\n",
    "    predictions[d]['nrmse'] = predictions[d]['rmse']/(test.values.max() - test.values.min())"
   ]
  },
  {
   "cell_type": "code",
   "execution_count": null,
   "metadata": {},
   "outputs": [],
   "source": [
    "ax = test.plot()\n",
    "\n",
    "legends = []\n",
    "for d in predictions.keys():\n",
    "    print(f'Normalized root mean squared error for {d} days prediction: {predictions[d][\"nrmse\"]:.2f}')\n",
    "        \n",
    "d = 28\n",
    "_ = predictions[d]['df'].plot(ax=ax)\n",
    "legends.append(f'{d} day prediction')      \n",
    "    \n",
    "ax.legend(['True', *legends])\n",
    "ax.grid()\n",
    "_ = ax.set_ylabel('USD')\n",
    "plt.show()"
   ]
  }
 ],
 "metadata": {
  "kernelspec": {
   "display_name": "Python 3",
   "language": "python",
   "name": "python3"
  },
  "language_info": {
   "codemirror_mode": {
    "name": "ipython",
    "version": 3
   },
   "file_extension": ".py",
   "mimetype": "text/x-python",
   "name": "python",
   "nbconvert_exporter": "python",
   "pygments_lexer": "ipython3",
   "version": "3.6.4"
  }
 },
 "nbformat": 4,
 "nbformat_minor": 1
}
